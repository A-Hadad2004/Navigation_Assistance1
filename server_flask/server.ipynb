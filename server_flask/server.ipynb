{
 "cells": [
  {
   "cell_type": "code",
   "execution_count": 1,
   "id": "1fd4c632-e4bd-4ac0-80be-607cb9a51e81",
   "metadata": {},
   "outputs": [],
   "source": [
    "import torch\n",
    "import IPython\n",
    "from IPython.display import Image\n",
    "import tensorboard\n",
    "import tensorflow\n",
    "import speech_recognition as sr\n",
    "import pocketsphinx\n",
    "import pyaudio\n",
    "recognizer = sr.Recognizer()\n",
    "import os\n",
    "import cv2\n",
    "# import pyttsx3\n",
    "# engine = pyttsx3.init()\n"
   ]
  },
  {
   "cell_type": "code",
   "execution_count": 2,
   "id": "ace52dd4-e0c1-4b63-9908-5fbc8e21e3a2",
   "metadata": {},
   "outputs": [
    {
     "name": "stderr",
     "output_type": "stream",
     "text": [
      "Using cache found in C:\\Users\\HP/.cache\\torch\\hub\\ultralytics_yolov5_master\n",
      "YOLOv5  2024-9-22 Python-3.12.3 torch-2.2.2+cpu CPU\n",
      "\n",
      "Fusing layers... \n",
      "Model summary: 157 layers, 7012822 parameters, 0 gradients, 15.8 GFLOPs\n",
      "Adding AutoShape... \n"
     ]
    }
   ],
   "source": [
    "# טעינת המשקלים המאומנים על custom data\n",
    "# best.pt- זה המשקל של המודל המאומן\n",
    "model = torch.hub.load('ultralytics/yolov5', 'custom', path='../best.pt', force_reload=False)"
   ]
  },
  {
   "cell_type": "code",
   "execution_count": 3,
   "id": "1b8ecb81-d33a-4109-b4a9-034320a4ee01",
   "metadata": {},
   "outputs": [],
   "source": [
    "%run ../main_function.ipynb\n",
    "%run ../Distance_calculation.ipynb\n",
    "%run ../Detection.ipynb\n",
    "%run ../shoot_a_frame.ipynb\n",
    "%run ../Voice.ipynb"
   ]
  },
  {
   "cell_type": "code",
   "execution_count": 4,
   "id": "f9d22621-d60e-4b97-8cb1-eb5623f4b35f",
   "metadata": {},
   "outputs": [
    {
     "name": "stdout",
     "output_type": "stream",
     "text": [
      " * Serving Flask app '__main__'\n",
      " * Debug mode: off\n"
     ]
    },
    {
     "name": "stderr",
     "output_type": "stream",
     "text": [
      "WARNING: This is a development server. Do not use it in a production deployment. Use a production WSGI server instead.\n",
      " * Running on all addresses (0.0.0.0)\n",
      " * Running on http://127.0.0.1:8000\n",
      " * Running on http://10.0.0.3:8000\n",
      "Press CTRL+C to quit\n",
      "10.0.0.3 - - [15/Dec/2024 16:07:22] \"GET / HTTP/1.1\" 200 -\n",
      "10.0.0.3 - - [15/Dec/2024 16:07:23] \"GET /static/styles1.css HTTP/1.1\" 200 -\n",
      "10.0.0.3 - - [15/Dec/2024 16:07:23] \"GET /static/styles.css HTTP/1.1\" 200 -\n",
      "10.0.0.3 - - [15/Dec/2024 16:07:23] \"GET /favicon.ico HTTP/1.1\" 404 -\n"
     ]
    },
    {
     "name": "stdout",
     "output_type": "stream",
     "text": [
      "היי\n",
      "2היי\n",
      "3היי\n",
      "Listening...\n",
      "You said: find me a chair\n"
     ]
    },
    {
     "name": "stderr",
     "output_type": "stream",
     "text": [
      "[2024-12-15 16:07:53,065] ERROR in app: Exception on /get [GET]\n",
      "Traceback (most recent call last):\n",
      "  File \"C:\\Users\\HP\\AppData\\Local\\Programs\\Python\\Python312\\Lib\\site-packages\\flask\\app.py\", line 1473, in wsgi_app\n",
      "    response = self.full_dispatch_request()\n",
      "               ^^^^^^^^^^^^^^^^^^^^^^^^^^^^\n",
      "  File \"C:\\Users\\HP\\AppData\\Local\\Programs\\Python\\Python312\\Lib\\site-packages\\flask\\app.py\", line 882, in full_dispatch_request\n",
      "    rv = self.handle_user_exception(e)\n",
      "         ^^^^^^^^^^^^^^^^^^^^^^^^^^^^^\n",
      "  File \"C:\\Users\\HP\\AppData\\Local\\Programs\\Python\\Python312\\Lib\\site-packages\\flask\\app.py\", line 880, in full_dispatch_request\n",
      "    rv = self.dispatch_request()\n",
      "         ^^^^^^^^^^^^^^^^^^^^^^^\n",
      "  File \"C:\\Users\\HP\\AppData\\Local\\Programs\\Python\\Python312\\Lib\\site-packages\\flask\\app.py\", line 865, in dispatch_request\n",
      "    return self.ensure_sync(self.view_functions[rule.endpoint])(**view_args)  # type: ignore[no-any-return]\n",
      "           ^^^^^^^^^^^^^^^^^^^^^^^^^^^^^^^^^^^^^^^^^^^^^^^^^^^^^^^^^^^^^^^^^\n",
      "  File \"C:\\Users\\HP\\AppData\\Local\\Programs\\Python\\Python312\\Lib\\site-packages\\flask_cors\\decorator.py\", line 130, in wrapped_function\n",
      "    resp = make_response(f(*args, **kwargs))\n",
      "                         ^^^^^^^^^^^^^^^^^^\n",
      "  File \"C:\\Users\\HP\\AppData\\Local\\Temp\\ipykernel_16340\\550183412.py\", line 11, in get_request\n",
      "    main()\n",
      "  File \"C:\\Users\\HP\\AppData\\Local\\Temp\\ipykernel_16340\\1967544144.py\", line 15, in main\n",
      "    end_program = process_voice_command(text)\n",
      "                  ^^^^^^^^^^^^^^^^^^^^^^^^^^^\n",
      "  File \"C:\\Users\\HP\\AppData\\Local\\Temp\\ipykernel_16340\\3458860473.py\", line 31, in process_voice_command\n",
      "    sending_the_cl(\"56\")\n",
      "  File \"C:\\Users\\HP\\AppData\\Local\\Temp\\ipykernel_16340\\4201126119.py\", line 8, in sending_the_cl\n",
      "    frame_Capture(cl)\n",
      "  File \"C:\\Users\\HP\\AppData\\Local\\Temp\\ipykernel_16340\\3194504385.py\", line 23, in frame_Capture\n",
      "    height, is_object_cutoff = Detect(frame, cl)\n",
      "    ^^^^^^^^^^^^^^^^^^^^^^^^\n",
      "TypeError: cannot unpack non-iterable NoneType object\n",
      "10.0.0.3 - - [15/Dec/2024 16:07:53] \"GET /get HTTP/1.1\" 500 -\n"
     ]
    },
    {
     "name": "stdout",
     "output_type": "stream",
     "text": [
      "         xmin       ymin   xmax   ymax  confidence  class   name\n",
      "0  559.284119  74.585358  640.0  480.0    0.462608      0  chair\n",
      "לא נמצאו תוצאות עבור מחלקה 56\n"
     ]
    }
   ],
   "source": [
    "from flask import Flask, render_template, request\n",
    "from flask_cors import cross_origin\n",
    "app= Flask(__name__)\n",
    "@app.route('/')\n",
    "def hello():\n",
    "    return render_template('fronted.html')\n",
    "    \n",
    "@app.route('/get', methods=['GET'])\n",
    "@cross_origin()\n",
    "def get_request():\n",
    "    main()\n",
    "    return render_template('fronted.html')\n",
    "\n",
    "\n",
    "if __name__ =='__main__':\n",
    "    app.run(debug=False, host='0.0.0.0', port=8000)"
   ]
  },
  {
   "cell_type": "code",
   "execution_count": null,
   "id": "ebe681b3-651c-4b7e-ac6d-7c2c1313d727",
   "metadata": {},
   "outputs": [],
   "source": []
  }
 ],
 "metadata": {
  "kernelspec": {
   "display_name": "Python 3 (ipykernel)",
   "language": "python",
   "name": "python3"
  },
  "language_info": {
   "codemirror_mode": {
    "name": "ipython",
    "version": 3
   },
   "file_extension": ".py",
   "mimetype": "text/x-python",
   "name": "python",
   "nbconvert_exporter": "python",
   "pygments_lexer": "ipython3",
   "version": "3.12.3"
  }
 },
 "nbformat": 4,
 "nbformat_minor": 5
}
