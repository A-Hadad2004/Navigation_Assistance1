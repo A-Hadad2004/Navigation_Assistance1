{
 "cells": [
  {
   "cell_type": "code",
   "execution_count": null,
   "id": "9d43f9e8-e461-485d-82d2-efe3e4ef66ff",
   "metadata": {},
   "outputs": [],
   "source": [
    "import torch\n",
    "import IPython\n",
    "from IPython.display import Image\n",
    "import tensorboard\n",
    "import tensorflow\n",
    "import speech_recognition as sr\n",
    "import pocketsphinx\n",
    "import pyaudio\n",
    "recognizer = sr.Recognizer()\n",
    "import os\n",
    "import cv2\n"
   ]
  },
  {
   "cell_type": "code",
   "execution_count": 6,
   "id": "4105619f-7c61-4a28-a1e2-5b39ee8d6a6b",
   "metadata": {},
   "outputs": [],
   "source": [
    "def main():\n",
    "    import pyttsx3\n",
    "    engine = pyttsx3.init()\n",
    "    print(\"היי\")\n",
    "    engine.say('Hello, you have arrived the: orientation in the environment, say the name of the object you would like to find')\n",
    "    engine.runAndWait()\n",
    "    print(\"2היי\")\n",
    "    # engine.say('The objects that we can, detect for you are: bed, table, chair, library, closet, dresser, coffee table and sofa')\n",
    "    # engine.runAndWait()\n",
    "    end_program = False\n",
    "    while not end_program:\n",
    "        print(\"3היי\")\n",
    "        audio = capture_voice_input()\n",
    "        text = convert_voice_to_text(audio)\n",
    "        end_program = process_voice_command(text)"
   ]
  },
  {
   "cell_type": "code",
   "execution_count": null,
   "id": "0324b758-cb97-4335-a4bd-59f6076892d7",
   "metadata": {},
   "outputs": [],
   "source": []
  }
 ],
 "metadata": {
  "kernelspec": {
   "display_name": "Python 3 (ipykernel)",
   "language": "python",
   "name": "python3"
  },
  "language_info": {
   "codemirror_mode": {
    "name": "ipython",
    "version": 3
   },
   "file_extension": ".py",
   "mimetype": "text/x-python",
   "name": "python",
   "nbconvert_exporter": "python",
   "pygments_lexer": "ipython3",
   "version": "3.12.3"
  }
 },
 "nbformat": 4,
 "nbformat_minor": 5
}
