{
 "cells": [
  {
   "cell_type": "code",
   "execution_count": 1,
   "id": "8e149554-9b46-4f7d-af9a-1922585dbf18",
   "metadata": {},
   "outputs": [],
   "source": [
    "know_distans0 = 131\n",
    "know_height0 = 82\n",
    "know_distans2 =271\n",
    "know_height2 = 89\n",
    "know_distans4 = 187\n",
    "know_height4 = 94\n",
    "know_distans1 = 163\n",
    "know_height1 = 78\n",
    "know_distans6= 151\n",
    "know_height6 = 240 \n",
    "know_distans3 = 120\n",
    "know_height3 = 177\n"
   ]
  },
  {
   "cell_type": "code",
   "execution_count": 2,
   "id": "54a69ab7-d672-4f58-a608-9d0744a74212",
   "metadata": {},
   "outputs": [],
   "source": [
    "focal_langth_class0= 776.4146341463414\n",
    "focal_langth_class4= 841.5"
   ]
  },
  {
   "cell_type": "code",
   "execution_count": 3,
   "id": "affa9b8e-d694-4dcf-8bd0-a9d6dcf21205",
   "metadata": {},
   "outputs": [],
   "source": [
    "def focal_length_finder(known_dis, know_height, height_we_found):\n",
    "    focal_length = (height_we_found* known_dis)/ know_height\n",
    "    return focal_length\n",
    "def distans_finder(focal_length, know_height, height_we_found):\n",
    "    distance = (know_height * focal_length)/ height_we_found\n",
    "    return distance"
   ]
  },
  {
   "cell_type": "code",
   "execution_count": null,
   "id": "19c4b515-6afc-4f40-af23-8380f0f5ca29",
   "metadata": {},
   "outputs": [],
   "source": []
  }
 ],
 "metadata": {
  "kernelspec": {
   "display_name": "Python 3 (ipykernel)",
   "language": "python",
   "name": "python3"
  },
  "language_info": {
   "codemirror_mode": {
    "name": "ipython",
    "version": 3
   },
   "file_extension": ".py",
   "mimetype": "text/x-python",
   "name": "python",
   "nbconvert_exporter": "python",
   "pygments_lexer": "ipython3",
   "version": "3.12.3"
  }
 },
 "nbformat": 4,
 "nbformat_minor": 5
}
