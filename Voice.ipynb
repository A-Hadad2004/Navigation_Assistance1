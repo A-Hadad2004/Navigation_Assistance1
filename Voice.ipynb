{
 "cells": [
  {
   "cell_type": "code",
   "execution_count": 1,
   "id": "be928d39-a4ac-48f3-b60a-7b442655db5a",
   "metadata": {},
   "outputs": [],
   "source": [
    "def capture_voice_input():\n",
    "    with sr.Microphone() as source:\n",
    "        print(\"Listening...\")\n",
    "        audio = recognizer.listen(source)\n",
    "    return audio"
   ]
  },
  {
   "cell_type": "code",
   "execution_count": 2,
   "id": "5c9c54f5-5f4f-4567-8cec-b81c9b776268",
   "metadata": {},
   "outputs": [],
   "source": [
    "def convert_voice_to_text(audio):\n",
    "    try:\n",
    "        # text = recognizer.recognize_sphinx(audio)\n",
    "        text = recognizer.recognize_google(audio)\n",
    "        print(\"You said: \" + text)\n",
    "    except sr.UnknownValueError:\n",
    "        text = \"\"\n",
    "        print(\"Sorry, I didn't understand that.\")\n",
    "    except sr.RequestError as e:\n",
    "        text = \"\"\n",
    "        print(\"Error; {0}\".format(e))\n",
    "    return text"
   ]
  },
  {
   "cell_type": "code",
   "execution_count": 3,
   "id": "f5ac003c-c9eb-4fc7-9dca-9662409a8df5",
   "metadata": {},
   "outputs": [],
   "source": [
    "def sending_the_cl(cl):\n",
    "    import pyttsx3\n",
    "    engine = pyttsx3.init()\n",
    "    \"\"\"the function get the name of the class and sending it to the make_frame function\n",
    "    and the make_frame function will send to the detect function\"\"\"\n",
    "    engine.say(\"we want to take a fram of your environment.\")\n",
    "    engine.runAndWait()\n",
    "    frame_Capture(cl)"
   ]
  },
  {
   "cell_type": "code",
   "execution_count": 1,
   "id": "a7a7c98c-f000-4fa3-b157-8b9154a8c670",
   "metadata": {},
   "outputs": [],
   "source": [
    "def process_voice_command(text):\n",
    "    import pyttsx3\n",
    "    engine = pyttsx3.init()\n",
    "    if \"hello\" in text.lower():\n",
    "        # print(\"Hello! How can I help you?\")\n",
    "        engine.say('Hello, How can I help you')\n",
    "        engine.runAndWait()\n",
    "    elif \"bed\" in text.lower():\n",
    "        engine.say('the object you search for is a bed')\n",
    "        engine.runAndWait()\n",
    "        sending_the_cl(\"0\")\n",
    "    elif \"coffee\" in text.lower() and \"table\" in text.lower():\n",
    "        engine.say('the object you search for is a coffee table')\n",
    "        engine.runAndWait()\n",
    "        sending_the_cl(\"7\")\n",
    "    elif \"table\" in text.lower():\n",
    "        engine.say('the object you search for is a table')\n",
    "        engine.runAndWait()\n",
    "        sending_the_cl(\"1\")\n",
    "    elif \"sofa\" in text.lower():\n",
    "        engine.say('the object you search for is a sofa')\n",
    "        engine.runAndWait()\n",
    "        sending_the_cl(\"2\")\n",
    "    elif \"dresser\" in text.lower():\n",
    "        engine.say('the object you search for is a dresser')\n",
    "        engine.runAndWait()\n",
    "        sending_the_cl(\"3\")\n",
    "    elif \"chair\" in text.lower() or \"ch\" in text.lower() or \"Find\" in text.lower():\n",
    "        engine.say('the object you search for is a chair')\n",
    "        engine.runAndWait()\n",
    "        sending_the_cl(\"56\")\n",
    "    elif \"closet\" in text.lower():\n",
    "        engine.say('the object you search for is a closet')\n",
    "        engine.runAndWait()\n",
    "        sending_the_cl(\"5\")\n",
    "    elif \"library\" in text.lower():\n",
    "        engine.say('the object you search for is a libary')\n",
    "        engine.runAndWait()\n",
    "        sending_the_cl(\"6\")\n",
    "    elif \"close\" in text.lower():\n",
    "        engine.say(\"Goodbye! Have a great day!\")\n",
    "        engine.runAndWait()\n",
    "        return True\n",
    "    else:\n",
    "        # print(\"I didn't understand that command. Please try again.\")\n",
    "        engine.say('I didnt understand that command. Please try again.')\n",
    "        engine.runAndWait()\n",
    "    return False"
   ]
  },
  {
   "cell_type": "code",
   "execution_count": null,
   "id": "cd14330b-a467-4f58-8fe0-4c2f00c92cbc",
   "metadata": {},
   "outputs": [],
   "source": []
  }
 ],
 "metadata": {
  "kernelspec": {
   "display_name": "Python 3 (ipykernel)",
   "language": "python",
   "name": "python3"
  },
  "language_info": {
   "codemirror_mode": {
    "name": "ipython",
    "version": 3
   },
   "file_extension": ".py",
   "mimetype": "text/x-python",
   "name": "python",
   "nbconvert_exporter": "python",
   "pygments_lexer": "ipython3",
   "version": "3.12.3"
  }
 },
 "nbformat": 4,
 "nbformat_minor": 5
}
