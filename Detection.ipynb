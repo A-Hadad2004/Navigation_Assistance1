{
 "cells": [
  {
   "cell_type": "code",
   "execution_count": null,
   "id": "f4013adc-56c0-4485-a09d-2f23855bfb8e",
   "metadata": {},
   "outputs": [],
   "source": [
    "# import torch\n",
    "# import IPython\n",
    "# from IPython.display import Image\n",
    "# import tensorboard\n",
    "# import tensorflow\n",
    "# import speech_recognition as sr\n",
    "# import pocketsphinx\n",
    "# import pyaudio\n",
    "# recognizer = sr.Recognizer()\n",
    "# import os\n",
    "# import cv2\n"
   ]
  },
  {
   "cell_type": "code",
   "execution_count": 1,
   "id": "1be592c8-9740-40c0-b799-a91fbd051c86",
   "metadata": {},
   "outputs": [],
   "source": [
    "def is_object_cutoff(bbox, img_width, img_height):\n",
    "    x_min, y_min, x_max, y_max = bbox\n",
    "    if x_min <= 0 or x_max >= img_width or y_min <= 0 or y_max >= img_height:\n",
    "        return True  # Object is cut off\n",
    "    return False"
   ]
  },
  {
   "cell_type": "code",
   "execution_count": 2,
   "id": "519bdb3b-aa48-45f0-85fe-86785b2716f2",
   "metadata": {},
   "outputs": [],
   "source": [
    "def Detect(frame, target_class):\n",
    "    # הרצת המודל על התמונה\n",
    "    results = model(frame)\n",
    "    num_class= int(target_class)\n",
    "    # המרת תוצאות ל-DataFrame\n",
    "    df = results.pandas().xyxy[0]\n",
    "    print(df)\n",
    "    # סינון לפי המחלקה המבוקשת (class) ושמירה של התיבה עם ההסתברות הגבוהה ביותר\n",
    "    filtered_df = df[df['class'] == num_class]\n",
    "    \n",
    "    # בדיקה אם אין תוצאות למחלקה המבוקשת\n",
    "    if filtered_df.empty:\n",
    "        print(f\"לא נמצאו תוצאות עבור מחלקה {target_class}\")\n",
    "        return None\n",
    "\n",
    "    # מציאת התיבה עם ההסתברות הגבוהה ביותר (העמודה 'confidence')\n",
    "    best_row = filtered_df.loc[filtered_df['confidence'].idxmax()]\n",
    "\n",
    "    # חישוב רוחב וגובה\n",
    "    xmin, ymin, xmax, ymax = best_row['xmin'], best_row['ymin'], best_row['xmax'], best_row['ymax']\n",
    "    bbox= xmin, ymin, xmax, ymax \n",
    "    width = xmax - xmin\n",
    "    height = ymax - ymin\n",
    "    is_object_cutoff= is_object_cutoff(bbox, width,height)\n",
    "    \n",
    "    print(f\"התיבה התוחמת למחלקה {target_class} עם ההסתברות הגבוהה ביותר:\")\n",
    "    print(f\"רוחב = {width}, גובה = {height}, הסתברות = {best_row['confidence']}\")\n",
    "\n",
    "    return height, is_object_cutoff"
   ]
  },
  {
   "cell_type": "code",
   "execution_count": null,
   "id": "0442a71b-1887-47cf-b19a-2151b50c5f92",
   "metadata": {},
   "outputs": [],
   "source": []
  }
 ],
 "metadata": {
  "kernelspec": {
   "display_name": "Python 3 (ipykernel)",
   "language": "python",
   "name": "python3"
  },
  "language_info": {
   "codemirror_mode": {
    "name": "ipython",
    "version": 3
   },
   "file_extension": ".py",
   "mimetype": "text/x-python",
   "name": "python",
   "nbconvert_exporter": "python",
   "pygments_lexer": "ipython3",
   "version": "3.12.3"
  }
 },
 "nbformat": 4,
 "nbformat_minor": 5
}
